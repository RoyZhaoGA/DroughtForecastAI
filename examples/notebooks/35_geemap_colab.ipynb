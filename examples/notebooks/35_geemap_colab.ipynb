{
  "cells": [
    {
      "cell_type": "markdown",
      "metadata": {
        "id": "K1JnR0zOXsU6"
      },
      "source": [
        "<a href=\"https://githubtocolab.com/gee-community/geemap/blob/master/examples/notebooks/35_geemap_colab.ipynb\" target=\"_parent\"><img src=\"https://colab.research.google.com/assets/colab-badge.svg\" alt=\"Open in Colab\"/></a>\n",
        "\n",
        "Uncomment the following line to install [geemap](https://geemap.org) if needed."
      ],
      "id": "K1JnR0zOXsU6"
    },
    {
      "cell_type": "code",
      "execution_count": null,
      "metadata": {
        "id": "qG1BcMjDXsU9"
      },
      "outputs": [],
      "source": [
        "# !pip install geemap"
      ],
      "id": "qG1BcMjDXsU9"
    },
    {
      "cell_type": "markdown",
      "metadata": {
        "id": "m1_EdQRwXsU-"
      },
      "source": [
        "## Import geemap library\n",
        "\n",
        "The [geemap](https://github.com/gee-community/geemap) Python package has two plotting backends: [ipyleaflet](https://github.com/jupyter-widgets/ipyleaflet) and [folium](https://github.com/python-visualization/folium). A key difference between folium and ipyleaflet is that ipyleaflet is built upon ipywidgets and allows bidirectional communication between the front-end and the backend enabling the use of the map to capture user input, while folium is meant for displaying static data only ([source](https://blog.jupyter.org/interactive-gis-in-jupyter-with-ipyleaflet-52f9657fa7a)). Note that Google Colab currently does not support ipyleaflet ([source](https://github.com/googlecolab/colabtools/issues/60#issuecomment-596225619)). Therefore, if you are using geemap with Google Colab, geemap will automatically use the folium plotting backend."
      ],
      "id": "m1_EdQRwXsU-"
    },
    {
      "cell_type": "code",
      "execution_count": null,
      "metadata": {
        "id": "eA1faD3hXsU-"
      },
      "outputs": [],
      "source": [
        "import ee\n",
        "import geemap"
      ],
      "id": "eA1faD3hXsU-"
    },
    {
      "cell_type": "markdown",
      "metadata": {
        "id": "vfWiMTb2XsU-"
      },
      "source": [
        "## Create an interactive map"
      ],
      "id": "vfWiMTb2XsU-"
    },
    {
      "cell_type": "code",
      "execution_count": null,
      "metadata": {
        "id": "hQb4vRUBXsU_"
      },
      "outputs": [],
      "source": [
        "Map = geemap.Map()"
      ],
      "id": "hQb4vRUBXsU_"
    },
    {
      "cell_type": "markdown",
      "metadata": {
        "id": "3qb9uI7KXsU_"
      },
      "source": [
        "## Add Earth Engine data"
      ],
      "id": "3qb9uI7KXsU_"
    },
    {
      "cell_type": "code",
      "execution_count": null,
      "metadata": {
        "id": "_WrN5PDxXsU_"
      },
      "outputs": [],
      "source": [
        "# Add Earth Engine dataset\n",
        "image = ee.Image('USGS/SRTMGL1_003')\n",
        "\n",
        "# Set visualization parameters.\n",
        "vis_params = {\n",
        "    'min': 0,\n",
        "    'max': 4000,\n",
        "    'palette': ['006633', 'E5FFCC', '662A00', 'D8D8D8', 'F5F5F5'],\n",
        "}\n",
        "\n",
        "# Print the elevation of Mount Everest.\n",
        "xy = ee.Geometry.Point([86.9250, 27.9881])\n",
        "elev = image.sample(xy, 30).first().get('elevation').getInfo()\n",
        "print('Mount Everest elevation (m):', elev)\n",
        "\n",
        "# Add Earth Engine layers to Map\n",
        "Map.addLayer(image, vis_params, 'DEM')\n",
        "Map.addLayer(xy, {'color': 'red'}, 'Mount Everest')\n",
        "\n",
        "# Center the map based on an Earth Engine object or coordinates (longitude, latitude)\n",
        "# Map.centerObject(xy, 4)\n",
        "Map.setCenter(86.9250, 27.9881, 4)"
      ],
      "id": "_WrN5PDxXsU_"
    },
    {
      "cell_type": "markdown",
      "metadata": {
        "id": "-xCoveqWXsU_"
      },
      "source": [
        "## Display the map"
      ],
      "id": "-xCoveqWXsU_"
    },
    {
      "cell_type": "code",
      "execution_count": null,
      "metadata": {
        "id": "1en6cuGRXsVA"
      },
      "outputs": [],
      "source": [
        "Map"
      ],
      "id": "1en6cuGRXsVA"
    }
  ],
  "metadata": {
    "kernelspec": {
      "display_name": "Python 3",
      "language": "python",
      "name": "python3"
    },
    "colab": {
      "provenance": []
    }
  },
  "nbformat": 4,
  "nbformat_minor": 5
}